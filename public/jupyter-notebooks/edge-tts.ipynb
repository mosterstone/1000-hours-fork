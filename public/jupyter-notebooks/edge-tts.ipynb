{
 "cells": [
  {
   "cell_type": "markdown",
   "id": "b94f103d-ac43-4d13-83cb-eb5090220881",
   "metadata": {},
   "source": [
    "# EdgeTTS\n",
    "\n",
    "https://github.com/rany2/edge-tts\n",
    "\n",
    "edge-tts is a Python module that allows you to use Microsoft Edge's online text-to-speech service from within your Python code or using the provided edge-tts or edge-playback command."
   ]
  },
  {
   "cell_type": "code",
   "execution_count": 1,
   "id": "77deb08f-fec3-4327-b2f9-1c893aacaddc",
   "metadata": {},
   "outputs": [
    {
     "name": "stdout",
     "output_type": "stream",
     "text": [
      "Collecting edge-tts\n",
      "  Using cached edge_tts-6.1.9-py3-none-any.whl.metadata (4.3 kB)\n",
      "Collecting aiohttp>=3.8.0 (from edge-tts)\n",
      "  Downloading aiohttp-3.9.3-cp311-cp311-macosx_11_0_arm64.whl.metadata (7.4 kB)\n",
      "Collecting certifi==2023.07.22 (from edge-tts)\n",
      "  Using cached certifi-2023.7.22-py3-none-any.whl.metadata (2.2 kB)\n",
      "Collecting aiosignal>=1.1.2 (from aiohttp>=3.8.0->edge-tts)\n",
      "  Using cached aiosignal-1.3.1-py3-none-any.whl (7.6 kB)\n",
      "Requirement already satisfied: attrs>=17.3.0 in /opt/homebrew/Caskroom/miniconda/base/lib/python3.11/site-packages (from aiohttp>=3.8.0->edge-tts) (23.2.0)\n",
      "Collecting frozenlist>=1.1.1 (from aiohttp>=3.8.0->edge-tts)\n",
      "  Downloading frozenlist-1.4.1-cp311-cp311-macosx_11_0_arm64.whl.metadata (12 kB)\n",
      "Collecting multidict<7.0,>=4.5 (from aiohttp>=3.8.0->edge-tts)\n",
      "  Downloading multidict-6.0.4-cp311-cp311-macosx_11_0_arm64.whl (29 kB)\n",
      "Collecting yarl<2.0,>=1.0 (from aiohttp>=3.8.0->edge-tts)\n",
      "  Downloading yarl-1.9.4-cp311-cp311-macosx_11_0_arm64.whl.metadata (31 kB)\n",
      "Requirement already satisfied: idna>=2.0 in /opt/homebrew/Caskroom/miniconda/base/lib/python3.11/site-packages (from yarl<2.0,>=1.0->aiohttp>=3.8.0->edge-tts) (3.4)\n",
      "Using cached edge_tts-6.1.9-py3-none-any.whl (27 kB)\n",
      "Using cached certifi-2023.7.22-py3-none-any.whl (158 kB)\n",
      "Downloading aiohttp-3.9.3-cp311-cp311-macosx_11_0_arm64.whl (387 kB)\n",
      "\u001b[2K   \u001b[90m━━━━━━━━━━━━━━━━━━━━━━━━━━━━━━━━━━━━━━━━\u001b[0m \u001b[32m387.7/387.7 kB\u001b[0m \u001b[31m2.4 MB/s\u001b[0m eta \u001b[36m0:00:00\u001b[0ma \u001b[36m0:00:01\u001b[0m\n",
      "\u001b[?25hDownloading frozenlist-1.4.1-cp311-cp311-macosx_11_0_arm64.whl (53 kB)\n",
      "\u001b[2K   \u001b[90m━━━━━━━━━━━━━━━━━━━━━━━━━━━━━━━━━━━━━━━━\u001b[0m \u001b[32m53.4/53.4 kB\u001b[0m \u001b[31m4.4 MB/s\u001b[0m eta \u001b[36m0:00:00\u001b[0m\n",
      "\u001b[?25hDownloading yarl-1.9.4-cp311-cp311-macosx_11_0_arm64.whl (81 kB)\n",
      "\u001b[2K   \u001b[90m━━━━━━━━━━━━━━━━━━━━━━━━━━━━━━━━━━━━━━━━\u001b[0m \u001b[32m81.2/81.2 kB\u001b[0m \u001b[31m4.8 MB/s\u001b[0m eta \u001b[36m0:00:00\u001b[0m\n",
      "\u001b[?25hInstalling collected packages: multidict, frozenlist, certifi, yarl, aiosignal, aiohttp, edge-tts\n",
      "  Attempting uninstall: certifi\n",
      "    Found existing installation: certifi 2023.11.17\n",
      "    Uninstalling certifi-2023.11.17:\n",
      "      Successfully uninstalled certifi-2023.11.17\n",
      "Successfully installed aiohttp-3.9.3 aiosignal-1.3.1 certifi-2023.7.22 edge-tts-6.1.9 frozenlist-1.4.1 multidict-6.0.4 yarl-1.9.4\n",
      "Collecting pygame\n",
      "  Downloading pygame-2.5.2-cp311-cp311-macosx_11_0_arm64.whl.metadata (13 kB)\n",
      "Downloading pygame-2.5.2-cp311-cp311-macosx_11_0_arm64.whl (12.2 MB)\n",
      "\u001b[2K   \u001b[90m━━━━━━━━━━━━━━━━━━━━━━━━━━━━━━━━━━━━━━━━\u001b[0m \u001b[32m12.2/12.2 MB\u001b[0m \u001b[31m4.4 MB/s\u001b[0m eta \u001b[36m0:00:00\u001b[0m00:01\u001b[0m00:01\u001b[0m\n",
      "\u001b[?25hInstalling collected packages: pygame\n",
      "Successfully installed pygame-2.5.2\n"
     ]
    }
   ],
   "source": [
    "!pip install edge-tts\n",
    "!pip install pygame"
   ]
  },
  {
   "cell_type": "code",
   "execution_count": 24,
   "id": "9aad6634-e833-4ec4-b285-84e051329712",
   "metadata": {},
   "outputs": [
    {
     "name": "stdout",
     "output_type": "stream",
     "text": [
      "Files created!\n"
     ]
    }
   ],
   "source": [
    "import asyncio\n",
    "import edge_tts\n",
    "import pygame\n",
    "\n",
    "TEXT = \"\"\"\n",
    "Jane, a bright young girl, loves to read  books at leisure in rooms or play on a sunny day outdoor here and there with boys. She vowed to buy a red ear dog. She thought it was unique, for sure. She'll feed it dough and cheese bar. She'll love it very much.\n",
    "\"\"\"\n",
    "\n",
    "VOICE = \"zh-CN-YunxiaNeural\"\n",
    "\n",
    "# VOICE = \"en-US-GuyNeural\" # Male\n",
    "# VOICE = \"en-US-AnaNeural\" # Female\n",
    "# VOICE = \"en-US-AndrewNeural\" # Male\n",
    "# VOICE = \"en-US-AriaNeural\" # Female\n",
    "# VOICE = \"en-US-AvaNeural\" # Female\n",
    "# VOICE = \"en-US-BrianNeural\" # Male\n",
    "# VOICE = \"en-US-ChristopherNeural\" # Male\n",
    "# VOICE = \"en-US-EmmaNeural\" # Female\n",
    "# VOICE = \"en-US-EricNeural\" # Male\n",
    "# VOICE = \"en-US-GuyNeural\" # Male\n",
    "# VOICE = \"en-US-JennyNeural\" # Female\n",
    "# VOICE = \"en-US-MichelleNeural\" # Female\n",
    "# VOICE = \"en-US-RogerNeural\" # Male\n",
    "# VOICE = \"en-US-SteffanNeural\" # Male\n",
    "# VOICE = \"en-GB-LibbyNeural\" # Female\n",
    "# VOICE = \"en-GB-MaisieNeural\" # Female\n",
    "# VOICE = \"en-GB-RyanNeural\" # Male\n",
    "# VOICE = \"en-GB-SoniaNeural\" # Female\n",
    "# VOICE = \"en-GB-ThomasNeural\" # Male\n",
    "# VOICE = \"en-AU-NatashaNeural\" # Female\n",
    "# VOICE = \"en-AU-WilliamNeural\" # Male\n",
    "# VOICE = \"en-CA-ClaraNeural\" # Female\n",
    "# VOICE = \"en-CA-LiamNeural\" # Male\n",
    "\n",
    "OUTPUT_FILE_NAME = f\"{VOICE}_{TEXT[:15]}.mp3\"\n",
    "\n",
    "OUTPUT_FILE = f\"{OUTPUT_FILE_NAME}.mp3\"\n",
    "WEBVTT_FILE = f\"{OUTPUT_FILE_NAME}.vtt\"\n",
    "\n",
    "communicate = edge_tts.Communicate(TEXT, VOICE)\n",
    "await communicate.save(OUTPUT_FILE)\n",
    "\n",
    "submaker = edge_tts.SubMaker()\n",
    "with open(OUTPUT_FILE, \"wb\") as file:\n",
    "    async for chunk in communicate.stream():\n",
    "        if chunk[\"type\"] == \"audio\":\n",
    "            file.write(chunk[\"data\"])\n",
    "        elif chunk[\"type\"] == \"WordBoundary\":\n",
    "            submaker.create_sub((chunk[\"offset\"], chunk[\"duration\"]), chunk[\"text\"])\n",
    "\n",
    "with open(WEBVTT_FILE, \"w\", encoding=\"utf-8\") as file:\n",
    "    file.write(submaker.generate_subs())\n",
    "\n",
    "print(\"Files created!\") "
   ]
  },
  {
   "cell_type": "code",
   "execution_count": 25,
   "id": "862f0948",
   "metadata": {},
   "outputs": [],
   "source": [
    "pygame.mixer.init()\n",
    "pygame.mixer.music.load(OUTPUT_FILE)\n",
    "pygame.mixer.music.play()"
   ]
  },
  {
   "cell_type": "code",
   "execution_count": null,
   "id": "6a73c84c-e221-4f2e-982a-0312929ffba4",
   "metadata": {},
   "outputs": [],
   "source": [
    "!pip install amfm_decompy"
   ]
  },
  {
   "cell_type": "code",
   "execution_count": null,
   "id": "bc271b37-fdf4-4888-bf46-31086b2299f3",
   "metadata": {},
   "outputs": [],
   "source": [
    "import amfm_decompy.basic_tools as basic\n",
    "import amfm_decompy.pYAAPT as pYAAPT\n",
    "import matplotlib.pyplot as plt\n",
    "import numpy as np\n",
    "\n",
    "#load audio 注意必须是wav\n",
    "signal = basic.SignalObj(\"/Users/joker/Desktop/Speaking Training/The Case Against Education/Clips/Chapter 01 (Selection) 01.wav\")\n",
    "\n",
    "#pYAAPT pitches 生成pitches文件\n",
    "pitch = pYAAPT.yaapt(signal, frame_length = 40, tda_frame_length=40,f0_min=75, f0_max=600)\n",
    "\n",
    "#plot \n",
    "plt.plot(pitch.samp_values)\n",
    "plt.show()"
   ]
  },
  {
   "cell_type": "code",
   "execution_count": null,
   "id": "f6a4cae2-78c1-4211-ac7b-e4339c95d945",
   "metadata": {},
   "outputs": [],
   "source": []
  }
 ],
 "metadata": {
  "kernelspec": {
   "display_name": "Python 3 (ipykernel)",
   "language": "python",
   "name": "python3"
  },
  "language_info": {
   "codemirror_mode": {
    "name": "ipython",
    "version": 3
   },
   "file_extension": ".py",
   "mimetype": "text/x-python",
   "name": "python",
   "nbconvert_exporter": "python",
   "pygments_lexer": "ipython3",
   "version": "3.11.5"
  }
 },
 "nbformat": 4,
 "nbformat_minor": 5
}
