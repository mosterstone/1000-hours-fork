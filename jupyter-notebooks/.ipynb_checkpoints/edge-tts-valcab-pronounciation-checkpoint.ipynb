{
 "cells": [
  {
   "cell_type": "markdown",
   "id": "b94f103d-ac43-4d13-83cb-eb5090220881",
   "metadata": {
    "jupyter": {
     "source_hidden": true
    }
   },
   "source": [
    "# EdgeTTS\n",
    "\n",
    "https://github.com/rany2/edge-tts\n",
    "\n",
    "edge-tts is a Python module that allows you to use Microsoft Edge's online text-to-speech service from within your Python code or using the provided edge-tts or edge-playback command."
   ]
  },
  {
   "cell_type": "code",
   "execution_count": 1,
   "id": "77deb08f-fec3-4327-b2f9-1c893aacaddc",
   "metadata": {
    "scrolled": true
   },
   "outputs": [
    {
     "name": "stdout",
     "output_type": "stream",
     "text": [
      "Requirement already satisfied: edge-tts in /opt/homebrew/Caskroom/miniconda/base/lib/python3.11/site-packages (6.1.9)\n",
      "Requirement already satisfied: aiohttp>=3.8.0 in /opt/homebrew/Caskroom/miniconda/base/lib/python3.11/site-packages (from edge-tts) (3.9.3)\n",
      "Requirement already satisfied: certifi==2023.07.22 in /opt/homebrew/Caskroom/miniconda/base/lib/python3.11/site-packages (from edge-tts) (2023.7.22)\n",
      "Requirement already satisfied: aiosignal>=1.1.2 in /opt/homebrew/Caskroom/miniconda/base/lib/python3.11/site-packages (from aiohttp>=3.8.0->edge-tts) (1.3.1)\n",
      "Requirement already satisfied: attrs>=17.3.0 in /opt/homebrew/Caskroom/miniconda/base/lib/python3.11/site-packages (from aiohttp>=3.8.0->edge-tts) (23.2.0)\n",
      "Requirement already satisfied: frozenlist>=1.1.1 in /opt/homebrew/Caskroom/miniconda/base/lib/python3.11/site-packages (from aiohttp>=3.8.0->edge-tts) (1.4.1)\n",
      "Requirement already satisfied: multidict<7.0,>=4.5 in /opt/homebrew/Caskroom/miniconda/base/lib/python3.11/site-packages (from aiohttp>=3.8.0->edge-tts) (6.0.5)\n",
      "Requirement already satisfied: yarl<2.0,>=1.0 in /opt/homebrew/Caskroom/miniconda/base/lib/python3.11/site-packages (from aiohttp>=3.8.0->edge-tts) (1.9.4)\n",
      "Requirement already satisfied: idna>=2.0 in /opt/homebrew/Caskroom/miniconda/base/lib/python3.11/site-packages (from yarl<2.0,>=1.0->aiohttp>=3.8.0->edge-tts) (3.4)\n",
      "Requirement already satisfied: pygame in /opt/homebrew/Caskroom/miniconda/base/lib/python3.11/site-packages (2.5.2)\n"
     ]
    }
   ],
   "source": [
    "!pip install edge-tts\n",
    "!pip install pygame"
   ]
  },
  {
   "cell_type": "code",
   "execution_count": 9,
   "id": "9aad6634-e833-4ec4-b285-84e051329712",
   "metadata": {},
   "outputs": [
    {
     "name": "stdout",
     "output_type": "stream",
     "text": [
      "Files created!\n"
     ]
    }
   ],
   "source": [
    "import asyncio\n",
    "import edge_tts\n",
    "import pygame\n",
    "\n",
    "TEXT = \"happy\"\n",
    "Wordlist = TEXT.split(\",\")\n",
    "\n",
    "for w in Wordlist:\n",
    "  for VOICE in ['en-US-GuyNeural', 'en-GB-RyanNeural']:\n",
    "    w = w.strip()\n",
    "    OUTPUT_FILE = f\"{w}-{VOICE[3:5].replace('GB', 'UK').lower()}.mp3\"\n",
    "    communicate = edge_tts.Communicate(w, VOICE)\n",
    "    await communicate.save(OUTPUT_FILE) \n",
    "\n",
    "print(\"Files created!\") "
   ]
  },
  {
   "cell_type": "code",
   "execution_count": null,
   "id": "09d5ab47-5807-4ded-a8b9-45277831d425",
   "metadata": {},
   "outputs": [],
   "source": [
    "# VOICE = \"en-US-GuyNeural\" # Male\n",
    "# VOICE = \"en-US-AnaNeural\" # Female\n",
    "# VOICE = \"en-US-AndrewNeural\" # Male\n",
    "# VOICE = \"en-US-AriaNeural\" # Female\n",
    "# VOICE = \"en-US-AvaNeural\" # Female\n",
    "# VOICE = \"en-US-BrianNeural\" # Male\n",
    "# VOICE = \"en-US-ChristopherNeural\" # Male\n",
    "# VOICE = \"en-US-EmmaNeural\" # Female\n",
    "# VOICE = \"en-US-EricNeural\" # Male\n",
    "# VOICE = \"en-US-GuyNeural\" # Male\n",
    "# VOICE = \"en-US-JennyNeural\" # Female\n",
    "# VOICE = \"en-US-MichelleNeural\" # Female\n",
    "# VOICE = \"en-US-RogerNeural\" # Male\n",
    "# VOICE = \"en-US-SteffanNeural\" # Male\n",
    "# VOICE = \"en-GB-LibbyNeural\" # Female\n",
    "# VOICE = \"en-GB-MaisieNeural\" # Female\n",
    "# VOICE = \"en-GB-RyanNeural\" # Male\n",
    "# VOICE = \"en-GB-SoniaNeural\" # Female\n",
    "# VOICE = \"en-GB-ThomasNeural\" # Male\n",
    "# VOICE = \"en-AU-NatashaNeural\" # Female\n",
    "# VOICE = \"en-AU-WilliamNeural\" # Male\n",
    "# VOICE = \"en-CA-ClaraNeural\" # Female\n",
    "# VOICE = \"en-CA-LiamNeural\" # Male\n"
   ]
  },
  {
   "cell_type": "code",
   "execution_count": 25,
   "id": "862f0948",
   "metadata": {},
   "outputs": [],
   "source": [
    "pygame.mixer.init()\n",
    "pygame.mixer.music.load(OUTPUT_FILE)\n",
    "pygame.mixer.music.play()"
   ]
  },
  {
   "cell_type": "code",
   "execution_count": null,
   "id": "6a73c84c-e221-4f2e-982a-0312929ffba4",
   "metadata": {},
   "outputs": [],
   "source": [
    "!pip install amfm_decompy"
   ]
  },
  {
   "cell_type": "code",
   "execution_count": null,
   "id": "bc271b37-fdf4-4888-bf46-31086b2299f3",
   "metadata": {},
   "outputs": [],
   "source": [
    "import amfm_decompy.basic_tools as basic\n",
    "import amfm_decompy.pYAAPT as pYAAPT\n",
    "import matplotlib.pyplot as plt\n",
    "import numpy as np\n",
    "\n",
    "#load audio 注意必须是wav\n",
    "signal = basic.SignalObj(\"/Users/joker/Desktop/Speaking Training/The Case Against Education/Clips/Chapter 01 (Selection) 01.wav\")\n",
    "\n",
    "#pYAAPT pitches 生成pitches文件\n",
    "pitch = pYAAPT.yaapt(signal, frame_length = 40, tda_frame_length=40,f0_min=75, f0_max=600)\n",
    "\n",
    "#plot \n",
    "plt.plot(pitch.samp_values)\n",
    "plt.show()"
   ]
  },
  {
   "cell_type": "code",
   "execution_count": 12,
   "id": "f6a4cae2-78c1-4211-ac7b-e4339c95d945",
   "metadata": {},
   "outputs": [],
   "source": [
    "TEXT = \"encourage\"\n",
    "Wordlist = TEXT.split(\",\")"
   ]
  },
  {
   "cell_type": "code",
   "execution_count": 14,
   "id": "7476118a-995c-4019-ba2a-ad6a3119051c",
   "metadata": {},
   "outputs": [
    {
     "name": "stdout",
     "output_type": "stream",
     "text": [
      "['encourage']\n"
     ]
    }
   ],
   "source": [
    "print(Wordlist)"
   ]
  },
  {
   "cell_type": "code",
   "execution_count": null,
   "id": "596a7aae-0bf7-49a1-b639-7c5f09b201fb",
   "metadata": {},
   "outputs": [],
   "source": []
  }
 ],
 "metadata": {
  "kernelspec": {
   "display_name": "Python 3 (ipykernel)",
   "language": "python",
   "name": "python3"
  },
  "language_info": {
   "codemirror_mode": {
    "name": "ipython",
    "version": 3
   },
   "file_extension": ".py",
   "mimetype": "text/x-python",
   "name": "python",
   "nbconvert_exporter": "python",
   "pygments_lexer": "ipython3",
   "version": "3.11.5"
  }
 },
 "nbformat": 4,
 "nbformat_minor": 5
}
